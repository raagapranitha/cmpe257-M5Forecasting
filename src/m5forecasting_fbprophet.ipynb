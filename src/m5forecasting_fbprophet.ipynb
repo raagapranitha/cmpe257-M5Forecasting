{
  "nbformat": 4,
  "nbformat_minor": 0,
  "metadata": {
    "colab": {
      "name": "Prophet_final",
      "private_outputs": true,
      "provenance": [],
      "collapsed_sections": []
    },
    "kernelspec": {
      "name": "python3",
      "display_name": "Python 3"
    },
    "accelerator": "GPU"
  },
  "cells": [
    {
      "cell_type": "code",
      "metadata": {
        "id": "_nPzfQ_GjftO"
      },
      "source": [
        "# importing essential libraries \n",
        "%load_ext google.colab.data_table\n",
        "import pandas as pd\n",
        "import numpy as np\n",
        "from matplotlib import colors\n",
        "import matplotlib.pyplot as plt\n",
        "from matplotlib.colors import Normalize\n",
        "\n",
        "import plotly.express as px\n",
        "import plotly.graph_objects as go\n",
        "import plotly.figure_factory as ff\n",
        "from plotly.subplots import make_subplots\n",
        "from sklearn.metrics import mean_squared_error, mean_absolute_error\n",
        "import matplotlib.pyplot as plt\n",
        "import seaborn as sns\n",
        "from fbprophet import Prophet\n",
        "import itertools\n",
        "from datetime import datetime\n",
        "from fbprophet.plot import plot_yearly\n",
        "import warnings\n",
        "import seaborn as sns\n",
        "from itertools import cycle"
      ],
      "execution_count": null,
      "outputs": []
    },
    {
      "cell_type": "code",
      "metadata": {
        "id": "T9zzbegljkzE"
      },
      "source": [
        "from google.colab import drive\n",
        "drive.mount(\"/content/gdrive\")"
      ],
      "execution_count": null,
      "outputs": []
    },
    {
      "cell_type": "code",
      "metadata": {
        "id": "kRa8ZwrAjnYk"
      },
      "source": [
        "!ls \"/content/gdrive/My Drive/team-project/data/m5-forecasting-accuracy\""
      ],
      "execution_count": null,
      "outputs": []
    },
    {
      "cell_type": "code",
      "metadata": {
        "id": "v6HRZUbMjt7e"
      },
      "source": [
        "# defining data path\n",
        "datadir=\"/content/gdrive/My Drive/team-project/data/m5-forecasting-accuracy/\""
      ],
      "execution_count": null,
      "outputs": []
    },
    {
      "cell_type": "code",
      "metadata": {
        "id": "6F43RA2rjyM0"
      },
      "source": [
        "# reading data into panda dataframes\n",
        "calendar = pd.read_csv(f'{datadir}/calendar.csv')\n",
        "selling_prices = pd.read_csv(f'{datadir}/sell_prices.csv')\n",
        "sample_submission = pd.read_csv(f'{datadir}/sample_submission.csv')\n",
        "sales_train_val = pd.read_csv(f'{datadir}/sales_train_validation.csv')\n",
        "sales_eval = pd.read_csv(f'{datadir}/sales_train_evaluation.csv')"
      ],
      "execution_count": null,
      "outputs": []
    },
    {
      "cell_type": "code",
      "metadata": {
        "id": "FJBtrdHcj9Tj"
      },
      "source": [
        "calendar.head()\n"
      ],
      "execution_count": null,
      "outputs": []
    },
    {
      "cell_type": "code",
      "metadata": {
        "id": "iGPBIKcZTKim"
      },
      "source": [
        "calendar.shape"
      ],
      "execution_count": null,
      "outputs": []
    },
    {
      "cell_type": "code",
      "metadata": {
        "id": "Ye1AztbfkDK0"
      },
      "source": [
        "selling_prices.head()"
      ],
      "execution_count": null,
      "outputs": []
    },
    {
      "cell_type": "code",
      "metadata": {
        "id": "RXiBHnIHkF9S"
      },
      "source": [
        "sales_train_val.head()\n"
      ],
      "execution_count": null,
      "outputs": []
    },
    {
      "cell_type": "code",
      "metadata": {
        "id": "ibTN9IkGkIyT"
      },
      "source": [
        "sales_eval.head()\n"
      ],
      "execution_count": null,
      "outputs": []
    },
    {
      "cell_type": "code",
      "metadata": {
        "id": "pjcDbTpZEwwf"
      },
      "source": [
        "columns = sales_eval.columns\n",
        "date_columns = columns[columns.str.contains(\"d_\")]\n",
        "dates_s = [pd.to_datetime(calendar.loc[calendar['d'] == str_date,'date'].values[0]) for str_date in date_columns]"
      ],
      "execution_count": null,
      "outputs": []
    },
    {
      "cell_type": "code",
      "metadata": {
        "id": "wUElOFYNWTQB"
      },
      "source": [
        "sales_eval = sales_eval.drop(['item_id','dept_id','cat_id','store_id','state_id'], axis=1)\n",
        "valid_cols = ['d_'+str(1913+i) for i in range(1,29)]\n",
        "sales_eval.columns = sales_eval.columns.tolist()[:-28]+valid_cols\n",
        "sales_eval.columns"
      ],
      "execution_count": null,
      "outputs": []
    },
    {
      "cell_type": "code",
      "metadata": {
        "id": "TEZxPR2WbrSF"
      },
      "source": [
        "sales_eval.tail()"
      ],
      "execution_count": null,
      "outputs": []
    },
    {
      "cell_type": "code",
      "metadata": {
        "id": "e9WYf3lobvKA"
      },
      "source": [
        "item1 = sales_eval.iloc[0]"
      ],
      "execution_count": null,
      "outputs": []
    },
    {
      "cell_type": "code",
      "metadata": {
        "id": "5f09XhIWb0Wl"
      },
      "source": [
        "item1"
      ],
      "execution_count": null,
      "outputs": []
    },
    {
      "cell_type": "code",
      "metadata": {
        "id": "FqjmUqd8b1RW"
      },
      "source": [
        "item1 = item1.drop('id').T.reset_index().merge(calendar[['d','date']], left_on='index', right_on='d', how='left').drop(['index','d'], axis=1)"
      ],
      "execution_count": null,
      "outputs": []
    },
    {
      "cell_type": "code",
      "metadata": {
        "id": "1cN7K9_bcWKz"
      },
      "source": [
        "item1.head()"
      ],
      "execution_count": null,
      "outputs": []
    },
    {
      "cell_type": "code",
      "metadata": {
        "id": "5zKsAWtGcW8Y"
      },
      "source": [
        "item1.shape"
      ],
      "execution_count": null,
      "outputs": []
    },
    {
      "cell_type": "code",
      "metadata": {
        "id": "evvuRQbRcsry"
      },
      "source": [
        "# modeling and visualizing on one row\n",
        "item = sales_eval.iloc[0]\n",
        "item = item.drop('id').T.reset_index().merge(calendar[['d','date']], left_on='index', right_on='d', how='left').drop(['index','d'], axis=1)\n",
        "item.columns = ['y', 'ds']\n",
        "item.y = item.y.astype('float')\n",
        "item.ds = item.ds.astype('datetime64')\n",
        "train_item = item.iloc[:-28]\n",
        "valid_item = item.iloc[-28:]\n",
        "\n",
        "# defining parameters for proophet model\n",
        "gr ='linear'\n",
        "sm ='multiplicative' \n",
        "iw = 0.8\n",
        "ds = False \n",
        "ys = True \n",
        "ws = True \n",
        "fom = 20\n",
        "p = 10\n",
        "ph = Prophet(growth= gr,\n",
        "            seasonality_mode= sm,\n",
        "            interval_width = iw,\n",
        "            daily_seasonality= ds, \n",
        "            yearly_seasonality= ys,\n",
        "            weekly_seasonality= ws).add_seasonality(\n",
        "                            name='mensual', period=30.5,fourier_order=fom)\n",
        "\n",
        "ph.fit(train_item)\n",
        "forecast = ph.predict(valid_itemtem)\n",
        "figure = ph.plot(forecast)\n",
        "figure.show()"
      ],
      "execution_count": null,
      "outputs": []
    },
    {
      "cell_type": "code",
      "metadata": {
        "id": "YvUrmXHES0tN"
      },
      "source": [
        "ph.plot_components(forecast)"
      ],
      "execution_count": null,
      "outputs": []
    },
    {
      "cell_type": "code",
      "metadata": {
        "id": "MGzasE0Cc549"
      },
      "source": [
        "forecast.head()"
      ],
      "execution_count": null,
      "outputs": []
    },
    {
      "cell_type": "code",
      "metadata": {
        "id": "LG9v9VVBVR8w"
      },
      "source": [
        "forecast[['ds', 'yhat','trend','weekly','yearly']]"
      ],
      "execution_count": null,
      "outputs": []
    },
    {
      "cell_type": "code",
      "metadata": {
        "id": "DjT3CWEDeSQ2"
      },
      "source": [
        "predicted = forecast['yhat']\n"
      ],
      "execution_count": null,
      "outputs": []
    },
    {
      "cell_type": "code",
      "metadata": {
        "id": "ZPZGdJmpdGdb"
      },
      "source": [
        "# defining error metrics\n",
        "\n",
        "def find_error(actual, pred,algo):\n",
        "    rmse = np.sqrt(mean_squared_error(actual, pred))\n",
        "    print(\"{} RMS error:{}\".format(algo,rmse))\n",
        "\n",
        "    r2 = r2_score(actual, pred)\n",
        "    print(\"{} R2 score:{}\".format(algo,r2))\n",
        "    return rmse, r2"
      ],
      "execution_count": null,
      "outputs": []
    },
    {
      "cell_type": "code",
      "metadata": {
        "id": "cs4QmtSzfbD2"
      },
      "source": [
        "rmse = find_error(item['y'],predicted,'prophet')"
      ],
      "execution_count": null,
      "outputs": []
    },
    {
      "cell_type": "code",
      "metadata": {
        "id": "I8mLhtHRhJiA"
      },
      "source": [
        "# modeling and visualizing  for all rows\n",
        "for i in range(len(sales_eval)):\n",
        "  item = sales_eval.iloc[i]\n",
        "  item_id = item.id\n",
        "  item = item.drop('id').T.reset_index().merge(calendar[['d','date']], left_on='index', right_on='d', how='left').drop(['index','d'], axis=1)\n",
        "  item.columns = ['y', 'ds']\n",
        "  item.y = item.y.astype('float')\n",
        "  item.ds = item.ds.astype('datetime64')\n",
        "  train_item = item.iloc[:-28]\n",
        "  valid_item = item.iloc[-28:]\n",
        "\n",
        "  gr ='linear' \n",
        "  sm ='multiplicative'\n",
        "  iw = 0.8\n",
        "  ds = False\n",
        "  ys = True\n",
        "  ws = True \n",
        "  fom = 20 \n",
        "  p = 10 \n",
        "  ph = Prophet(growth= gr,\n",
        "                seasonality_mode= sm,interval_width = iw,daily_seasonality= ds, yearly_seasonality= ys,weekly_seasonality= ws).add_seasonality(name='mensual', period=30.5,fourier_order=fom)\n",
        "                \n",
        "  ph.fit(train_item)\n",
        "  forecast = ph.predict(item[['ds']])"
      ],
      "execution_count": null,
      "outputs": []
    },
    {
      "cell_type": "code",
      "metadata": {
        "id": "bbOWvThTA8BC"
      },
      "source": [
        "predicted1=forecast['yhat']\n",
        "predicted1"
      ],
      "execution_count": null,
      "outputs": []
    },
    {
      "cell_type": "code",
      "metadata": {
        "id": "A242EmvPAgQ3"
      },
      "source": [
        "#evaluation \n",
        "rmse1 = find_error(item['y'],predicted1,'prophet')"
      ],
      "execution_count": null,
      "outputs": []
    },
    {
      "cell_type": "code",
      "metadata": {
        "id": "36SIcpVBCDwF"
      },
      "source": [
        ""
      ],
      "execution_count": null,
      "outputs": []
    }
  ]
}